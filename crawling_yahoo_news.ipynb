{
 "cells": [
  {
   "cell_type": "code",
   "execution_count": 1,
   "metadata": {},
   "outputs": [],
   "source": [
    "import requests\n",
    "from bs4 import BeautifulSoup"
   ]
  },
  {
   "cell_type": "code",
   "execution_count": 36,
   "metadata": {},
   "outputs": [],
   "source": [
    "def scraping_describe(soup):\n",
    "    contents = soup.select(\"div.articleMain > div > p\")\n",
    "    for content in contents:\n",
    "        yield(content.text.strip())"
   ]
  },
  {
   "cell_type": "code",
   "execution_count": 88,
   "metadata": {},
   "outputs": [],
   "source": [
    "import time\n",
    "import re\n",
    "\n",
    "def scraping_describe_all(session, url):\n",
    "    print(url)\n",
    "    response = session.get(url)\n",
    "    soup = BeautifulSoup(response.text, \"html.parser\")\n",
    "    pages = soup.select(\"p.counter > span\")\n",
    "    if len(pages) == 0:\n",
    "        pages = 1\n",
    "    else:\n",
    "        txt = pages[0].text\n",
    "        pages = int(re.search(r'/(\\d+).*', txt).group(1))\n",
    "    for i in range(1, pages+1):\n",
    "        u = \"{}&p={}\".format(url, i)\n",
    "        r = session.get(u)\n",
    "        s = BeautifulSoup(r.text, \"html.parser\")\n",
    "        for content in scraping_describe(s):\n",
    "            yield(content)\n",
    "        time.sleep(1)"
   ]
  },
  {
   "cell_type": "code",
   "execution_count": 89,
   "metadata": {},
   "outputs": [],
   "source": [
    "def scraping_list(session, url):\n",
    "    response = session.get(url)\n",
    "    soup = BeautifulSoup(response.text, \"html.parser\")\n",
    "    links = soup.select(\"#NSm > div > h2 > a\")\n",
    "    contents = []\n",
    "    for link in links:\n",
    "        content = \"\".join(scraping_describe_all(session, link[\"href\"]))\n",
    "        contents.append(content)\n",
    "        break\n",
    "    next_links = soup.select(\"#Sp1 > p > span > a\")\n",
    "    if len(next_links) != 0:\n",
    "        l = next_links[-1]\n",
    "        if l.text.startswith(\"次へ\"):\n",
    "            c = scraping_list(session, l[\"href\"])\n",
    "            contents = contents + c\n",
    "    return contents"
   ]
  },
  {
   "cell_type": "code",
   "execution_count": 90,
   "metadata": {},
   "outputs": [
    {
     "name": "stdout",
     "output_type": "stream",
     "text": [
      "https://headlines.yahoo.co.jp/article?a=20180322-00010002-vingtcinq-life\n",
      "https://headlines.yahoo.co.jp/hl?a=20180222-00000004-maikirei-ent\n",
      "https://headlines.yahoo.co.jp/article?a=20180119-00000016-pseven-soci\n",
      "https://headlines.yahoo.co.jp/article?a=20171228-00005438-bunshun-ent\n",
      "https://news.yahoo.co.jp/byline/ymjrky/20170723-00073620/\n"
     ]
    }
   ],
   "source": [
    "s = requests.Session()\n",
    "contents = scraping_list(s, \"https://news.yahoo.co.jp/search/?fr=news_sw&p=%E9%BA%A6%E8%8C%B6&ei=UTF-8&b=1\")"
   ]
  },
  {
   "cell_type": "code",
   "execution_count": 91,
   "metadata": {},
   "outputs": [
    {
     "data": {
      "text/plain": [
       "5"
      ]
     },
     "execution_count": 91,
     "metadata": {},
     "output_type": "execute_result"
    }
   ],
   "source": [
    "len(contents)"
   ]
  },
  {
   "cell_type": "code",
   "execution_count": 98,
   "metadata": {},
   "outputs": [
    {
     "data": {
      "text/plain": [
       "''"
      ]
     },
     "execution_count": 98,
     "metadata": {},
     "output_type": "execute_result"
    }
   ],
   "source": [
    "contents[4]"
   ]
  },
  {
   "cell_type": "code",
   "execution_count": null,
   "metadata": {},
   "outputs": [],
   "source": []
  }
 ],
 "metadata": {
  "kernelspec": {
   "display_name": "Python 3",
   "language": "python",
   "name": "python3"
  },
  "language_info": {
   "codemirror_mode": {
    "name": "ipython",
    "version": 3
   },
   "file_extension": ".py",
   "mimetype": "text/x-python",
   "name": "python",
   "nbconvert_exporter": "python",
   "pygments_lexer": "ipython3",
   "version": "3.6.4"
  }
 },
 "nbformat": 4,
 "nbformat_minor": 2
}
