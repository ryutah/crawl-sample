{
 "cells": [
  {
   "cell_type": "code",
   "execution_count": 14,
   "metadata": {},
   "outputs": [],
   "source": [
    "import requests\n",
    "from bs4 import BeautifulSoup"
   ]
  },
  {
   "cell_type": "code",
   "execution_count": 15,
   "metadata": {},
   "outputs": [],
   "source": [
    "def scraping_describe(soup):\n",
    "    contents = soup.select(\"div.articleMain > div > p\")\n",
    "    if len(contents) == 0:\n",
    "        contents = soup.select(\"#content-body > section > div > div.bd\")\n",
    "    for content in contents:\n",
    "        yield(content.text.strip())"
   ]
  },
  {
   "cell_type": "code",
   "execution_count": 16,
   "metadata": {},
   "outputs": [],
   "source": [
    "import time\n",
    "import re\n",
    "\n",
    "def scraping_describe_all(session, url):\n",
    "    print(url)\n",
    "    response = session.get(url)\n",
    "    soup = BeautifulSoup(response.text, \"html.parser\")\n",
    "    pages = soup.select(\"p.counter > span\")\n",
    "    if len(pages) == 0:\n",
    "        pages = 1\n",
    "    else:\n",
    "        txt = pages[0].text\n",
    "        pages = int(re.search(r'/(\\d+).*', txt).group(1))\n",
    "    for i in range(1, pages+1):\n",
    "        u = \"{}&p={}\".format(url, i)\n",
    "        r = session.get(u)\n",
    "        s = BeautifulSoup(r.text, \"html.parser\")\n",
    "        for content in scraping_describe(s):\n",
    "            yield(content)\n",
    "        time.sleep(1)"
   ]
  },
  {
   "cell_type": "code",
   "execution_count": 17,
   "metadata": {},
   "outputs": [],
   "source": [
    "def scraping_list(session, url):\n",
    "    response = session.get(url)\n",
    "    soup = BeautifulSoup(response.text, \"html.parser\")\n",
    "    links = soup.select(\"#NSm > div > h2 > a\")\n",
    "    contents = []\n",
    "    for link in links:\n",
    "        content = \"\".join(scraping_describe_all(session, link[\"href\"]))\n",
    "        contents.append(content)\n",
    "    next_links = soup.select(\"#Sp1 > p > span > a\")\n",
    "    if len(next_links) != 0:\n",
    "        l = next_links[-1]\n",
    "        if l.text.startswith(\"次へ\"):\n",
    "            c = scraping_list(session, l[\"href\"])\n",
    "            contents = contents + c\n",
    "    return contents"
   ]
  },
  {
   "cell_type": "code",
   "execution_count": 18,
   "metadata": {},
   "outputs": [
    {
     "name": "stdout",
     "output_type": "stream",
     "text": [
      "https://headlines.yahoo.co.jp/article?a=20180322-00010002-vingtcinq-life\n",
      "https://headlines.yahoo.co.jp/article?a=20180319-00000249-tamahiyo-life\n",
      "https://headlines.yahoo.co.jp/hl?a=20180319-00000003-ascii-bus_all\n",
      "https://headlines.yahoo.co.jp/hl?a=20180311-00000021-san-l40\n",
      "https://headlines.yahoo.co.jp/article?a=20180307-00139723-tkwalk-life\n",
      "https://headlines.yahoo.co.jp/hl?a=20180306-00010004-benesseks-life\n",
      "https://headlines.yahoo.co.jp/article?a=20180228-00010001-biz_lifeh-sci\n",
      "https://headlines.yahoo.co.jp/hl?a=20180228-00000004-nkgendai-ent\n",
      "https://headlines.yahoo.co.jp/article?a=20180225-00054502-gendaibiz-bus_all\n",
      "https://headlines.yahoo.co.jp/article?a=20180223-51948786-woman-life\n",
      "https://headlines.yahoo.co.jp/hl?a=20180222-00000004-maikirei-ent\n",
      "https://headlines.yahoo.co.jp/article?a=20180220-00137996-the_tv-ent\n",
      "https://headlines.yahoo.co.jp/article?a=20180220-00010000-otonans-soci\n",
      "https://headlines.yahoo.co.jp/hl?a=20180218-00000015-tospoweb-base\n",
      "https://headlines.yahoo.co.jp/hl?a=20180208-00010007-saitama-l11\n",
      "https://headlines.yahoo.co.jp/article?a=20180205-00010002-nikkeisty-life\n",
      "https://headlines.yahoo.co.jp/article?a=20180203-00010003-biz_lifeh-sci\n",
      "https://headlines.yahoo.co.jp/article?a=20180127-00000021-pseven-soci\n",
      "https://headlines.yahoo.co.jp/article?a=20180124-00000011-pseven-soci\n",
      "https://headlines.yahoo.co.jp/hl?a=20180124-00010003-manetatsun-life\n",
      "https://headlines.yahoo.co.jp/article?a=20180119-00000016-pseven-soci\n",
      "https://headlines.yahoo.co.jp/article?a=20180118-00010001-biz_lifeh-sci\n",
      "https://headlines.yahoo.co.jp/article?a=20180117-00010001-ourage-life\n",
      "https://headlines.yahoo.co.jp/article?a=20180115-00010000-ourage-life\n",
      "https://headlines.yahoo.co.jp/hl?a=20180115-00002366-weather-soci\n",
      "https://headlines.yahoo.co.jp/hl?a=20180113-00000013-mnet-musi\n",
      "https://headlines.yahoo.co.jp/hl?a=20180113-00000013-exmusic-musi\n",
      "https://headlines.yahoo.co.jp/article?a=20180112-00133793-the_tv-ent\n",
      "https://headlines.yahoo.co.jp/hl?a=20180110-00010002-agrinews-bus_all\n",
      "https://headlines.yahoo.co.jp/article?a=20180107-00010005-biz_lifeh-sci\n",
      "https://headlines.yahoo.co.jp/article?a=20171228-00005438-bunshun-ent\n",
      "https://headlines.yahoo.co.jp/article?a=20171226-00010003-dime-life\n",
      "https://headlines.yahoo.co.jp/hl?a=20171122-00037155-bballk-spo\n",
      "https://headlines.yahoo.co.jp/hl?a=20171119-00010000-agrinews-ind\n",
      "https://headlines.yahoo.co.jp/hl?a=20171113-00010003-nshaberu-ent\n",
      "https://headlines.yahoo.co.jp/article?a=20171020-00125134-the_tv-ent\n",
      "https://headlines.yahoo.co.jp/article?a=20171014-00010001-suitsw-life\n",
      "https://headlines.yahoo.co.jp/article?a=20170925-00038073-esse-life\n",
      "https://headlines.yahoo.co.jp/hl?a=20170925-00010005-autoconen-bus_all\n",
      "https://headlines.yahoo.co.jp/hl?a=20170727-00000003-wordleafv-soci\n",
      "https://news.yahoo.co.jp/byline/ymjrky/20170723-00073620/\n",
      "https://news.yahoo.co.jp/byline/iderumi/20170710-00073123/\n",
      "https://headlines.yahoo.co.jp/hl?a=20170416-00010001-bfj-soci\n",
      "https://headlines.yahoo.co.jp/hl?a=20170308-00010006-bfj-soci\n",
      "https://news.yahoo.co.jp/byline/okudakazuko/20160824-00061456/\n",
      "https://news.yahoo.co.jp/byline/fuwaraizo/20160321-00055492/\n",
      "https://news.yahoo.co.jp/byline/shinodahiroyuki/20141006-00039738/\n",
      "https://news.yahoo.co.jp/byline/ichinosekatsumi/20131010-00028828/\n",
      "https://news.yahoo.co.jp/byline/mizushimahiroaki/20130816-00027308/\n",
      "https://news.yahoo.co.jp/byline/yamamotoichiro/20130814-00027260/\n"
     ]
    }
   ],
   "source": [
    "s = requests.Session()\n",
    "contents = scraping_list(s, \"https://news.yahoo.co.jp/search/?fr=news_sw&p=%E9%BA%A6%E8%8C%B6&ei=UTF-8&b=1\")"
   ]
  },
  {
   "cell_type": "code",
   "execution_count": 19,
   "metadata": {},
   "outputs": [
    {
     "data": {
      "text/plain": [
       "50"
      ]
     },
     "execution_count": 19,
     "metadata": {},
     "output_type": "execute_result"
    }
   ],
   "source": [
    "len(contents)"
   ]
  },
  {
   "cell_type": "code",
   "execution_count": 20,
   "metadata": {},
   "outputs": [],
   "source": [
    "for (i, content) in enumerate(contents):\n",
    "    with open(\"yahoo-news/mugicha_{}\".format(i), \"a\") as f:\n",
    "        f.write(content)"
   ]
  },
  {
   "cell_type": "code",
   "execution_count": 21,
   "metadata": {},
   "outputs": [],
   "source": [
    "blanks = filter(lambda content: len(content[1]) == 0, enumerate(contents))"
   ]
  },
  {
   "cell_type": "code",
   "execution_count": 22,
   "metadata": {},
   "outputs": [
    {
     "name": "stdout",
     "output_type": "stream",
     "text": [
      "[]\n"
     ]
    }
   ],
   "source": [
    "print(list(blanks))"
   ]
  },
  {
   "cell_type": "code",
   "execution_count": 13,
   "metadata": {},
   "outputs": [
    {
     "data": {
      "text/plain": [
       "'赤ちゃんの乳歯が生えてくると、むし歯予防のために「仕上げ磨きをしないといけない！」とまっさきに思いますよね。\\nでも、仕上げ磨きだけでは、むし歯は防げません。大事なのは、食生活。どんなものを、いつ、食べさせるかに気をつけることで、むし歯になりにくくなります。むし歯は感染症です。\\n生まれたばかりの赤ちゃんの口の中には、むし歯の原因になる“むし歯菌”はいません。でも、乳歯が生えてくると、むし歯菌が口の中に入って感染します。\\n\\nむし歯菌は、酸を作り出して歯をむし歯にするのですが、もともと口の中は、ほぼ中性の状態でむし歯になりにくい状態。\\n食べ物を食べたり、飲み物を飲んだりすると、口の中が酸性に傾いていきます。それを中性に戻してくれるのが【だ液】です。\\n\\nでも、ダラダラと食べたり飲んだりして口の中に食べ物がある時間が長くなると、だ液の働きが間に合わず、酸性の状態が続き、むし歯になりやすくなります。\\nだから、食事とおやつの時間は決めることが大事。そして、口の中に食べ物がない時間を増やしましょう。それが、むし歯予防の第一歩です。外遊びのあとやおふろのあとなどに、水分補給は必要です。\\nおやつの時間を決めていても、このときにジュースやイオン飲料を与えていませんか？\\u3000\\u3000\\n\\nイオン飲料には糖分が含まれているので、甘いジュースと同じ。これらを飲ませると、口の中は食事やおやつを食べたあとと同じ状態になり、むし歯になりやすくなります。\\n\\n水分補給として飲ませるなら、水や麦茶（無糖のもの）にしましょう。乳幼児用の野菜ジュースなども、注意が必要。飲ませるならおやつの時間にしましょう。大人のおやつと違い、乳幼児のおやつは“第4の食事”といわれています。\\nまだ胃が小さくて、一度にたくさんの量を食べられないので、3度の食事でとりきれなかった栄養素をおやつで補う必要があるからです。\\n\\n本来なら、おやつにはごはんやパン、いも類などの炭水化物や野菜、果物、乳製品などを食べさせるのが理想的なのですが、赤ちゃん用のお菓子などを与えることも多いでしょう。\\n\\nおやつを選ぶときに注意したいのは、おやつに含まれる糖分。むし歯菌は糖分をえさにするからです。\\n\\nカステラなど、甘くて歯にくっつきやすいものは、口の中に長く留まるので、とくにむし歯のリスクが高くなります。菓子パンや甘いジュース、イオン飲料などの飲み物も、むし歯リスクが高いといえます。\\n\\n小さいおにぎりやいも類など、甘みの少ないものはいいでしょう。\\nでも、甘くない炭水化物といえども、だ液が合わさると糖に変わるので油断はできません。\\n食べさせたあとは、水や麦茶を飲ませるなどして、口の中に残さないようにしましょう。\\n\\nパンには砂糖が入っているので、注意が必要。菓子パンはさらに甘いので気をつけましょう。\\n果物も、とくにみかんやオレンジなどのかんきつ類は酸性で歯を溶かすので、食べたら、口の中に残さないように、水や麦茶で流しましょう。口に残りにくく、甘みが強くないもの。むし歯のもとになる酸を出しにくいものが○\\n\\n→おにぎり、いも類、チーズ、ヨーグルト、野菜スティック、赤ちゃん用ソフトせんべい歯にべったりとつきやすいものや、長い間、口の中に残るようなものは歯によくありません。\\n\\n→キャラメル、あめ、チョコレート、大人用クッキー、菓子パン\\n※0～2才代の子どもにこれらのおやつを与えるのは、むし歯リスクだけでなく、糖分や脂肪分が多い点でもNGです。\\n\\n甘いものがむし歯の原因になることはわかっていても、体にいいと思って飲ませている野菜ジュースやイオン飲料、おやつに食べさせるパンやデザートの果物も、むし歯の原因になってしまうことがあるんですね。食べる時間、リズムに気をつけましょう。\\n食後は食べかすが口に残らないように、水や麦茶を飲む習慣をつけましょう。そして水分補給は水や麦茶にしましょう。（監修/橘こども歯科医院院長\\u3000鈴木さち代先生\\u3000取材・文/白鳥紀久子、ひよこクラブ編集部）\\n\\nProfile\\n鈴木さち代先生●橘こども歯科医院院長。北海道大学歯学部卒業。2000年神奈川県川崎市に小児歯科診療専門の歯科医院を開設。'"
      ]
     },
     "execution_count": 13,
     "metadata": {},
     "output_type": "execute_result"
    }
   ],
   "source": []
  },
  {
   "cell_type": "code",
   "execution_count": null,
   "metadata": {},
   "outputs": [],
   "source": []
  }
 ],
 "metadata": {
  "kernelspec": {
   "display_name": "Python 3",
   "language": "python",
   "name": "python3"
  },
  "language_info": {
   "codemirror_mode": {
    "name": "ipython",
    "version": 3
   },
   "file_extension": ".py",
   "mimetype": "text/x-python",
   "name": "python",
   "nbconvert_exporter": "python",
   "pygments_lexer": "ipython3",
   "version": "3.6.4"
  }
 },
 "nbformat": 4,
 "nbformat_minor": 2
}
